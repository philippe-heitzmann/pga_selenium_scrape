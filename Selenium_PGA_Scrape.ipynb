{
 "cells": [
  {
   "cell_type": "code",
   "execution_count": 4,
   "id": "5f15a9fe",
   "metadata": {},
   "outputs": [],
   "source": [
    "import re\n",
    "import requests\n",
    "import csv\n",
    "import time\n",
    "\n",
    "from bs4 import BeautifulSoup\n",
    "import numpy as np\n",
    "import pandas as pd\n",
    "import selenium\n",
    "from selenium import webdriver\n",
    "from selenium.webdriver.common.by import By\n",
    "from selenium.webdriver.support.ui import WebDriverWait\n",
    "from selenium.webdriver.support import expected_conditions as EC\n",
    "from webdriver_manager.chrome import ChromeDriverManager\n",
    "\n",
    "pd.options.display.float_format = '{:.3f}'.format"
   ]
  },
  {
   "cell_type": "code",
   "execution_count": null,
   "id": "710031c6",
   "metadata": {},
   "outputs": [],
   "source": [
    "## Scrape historical PGA data\n",
    "\n",
    "## Functionally, this is what I am trying to do:\n",
    "#1) Open up each tournament going back to 2012 (Fortinet, this particular tourney, just a start)\n",
    "#2) Once the tournament HTML has loaded, \"click\" on each players name, so that hole-by-hole data is available\n",
    "#3) Once you have \"clicked\" on a player's name, you are required to do a few more clicks such that the HTML becomes available:\n",
    "#    a) click through all of rounds 1-4, so that you have all rounds\n",
    "#    b) click the \"arrow\" button (at the top right of the players hole-by-hole scores) to toggle between the \n",
    "#    front 9 holes and back 9 holes.\n",
    "#4) The \"issue\" I am having is that selenium seems to only find the \"round\" buttons (rounds 1,2,3,4 within the players explanded scorecard)\n",
    "#   if the devtools pane is open on the page being controlled by the webdriver. I stumbled upon this literally by accident (I have\n",
    "#   to manually open devtools on the driver page as my selenium code runs in order for selenium to \"find\" the round buttons ...)\n",
    "#   No idea what would cause this but very curious to understand why this behavior is happening.\n"
   ]
  },
  {
   "cell_type": "markdown",
   "id": "14f996c5",
   "metadata": {},
   "source": [
    "#### From pga_scrape.py"
   ]
  },
  {
   "cell_type": "code",
   "execution_count": 27,
   "id": "3b6e4107",
   "metadata": {},
   "outputs": [
    {
     "name": "stdout",
     "output_type": "stream",
     "text": [
      "\n"
     ]
    },
    {
     "name": "stderr",
     "output_type": "stream",
     "text": [
      "[WDM] - ====== WebDriver manager ======\n",
      "[WDM] - Current google-chrome version is 101.0.4951\n",
      "[WDM] - Get LATEST chromedriver version for 101.0.4951 google-chrome\n",
      "[WDM] - Driver [C:\\Users\\phil0\\.wdm\\drivers\\chromedriver\\win32\\101.0.4951.41\\chromedriver.exe] found in cache\n",
      "C:\\Users\\phil0\\AppData\\Local\\Temp\\ipykernel_26036\\1503906442.py:1: DeprecationWarning: executable_path has been deprecated, please pass in a Service object\n",
      "  driver = webdriver.Chrome(ChromeDriverManager().install())\n"
     ]
    }
   ],
   "source": [
    "driver = webdriver.Chrome(ChromeDriverManager().install())"
   ]
  },
  {
   "cell_type": "code",
   "execution_count": 36,
   "id": "1c28b93f",
   "metadata": {},
   "outputs": [
    {
     "name": "stdout",
     "output_type": "stream",
     "text": [
      "0\n"
     ]
    }
   ],
   "source": [
    "print(len(''))"
   ]
  },
  {
   "cell_type": "code",
   "execution_count": 39,
   "id": "b0bfecc0",
   "metadata": {},
   "outputs": [
    {
     "name": "stdout",
     "output_type": "stream",
     "text": [
      "36\n",
      "<selenium.webdriver.remote.webelement.WebElement (session=\"5e3a0f508c8ef9bd23bc34c75446cbfd\", element=\"9edae0d5-de07-4d16-9f99-f00224d79c31\")>\n",
      "<selenium.webdriver.remote.webelement.WebElement (session=\"5e3a0f508c8ef9bd23bc34c75446cbfd\", element=\"7f9512ed-0abe-483f-a78f-34e873cfc5fd\")>\n",
      "<selenium.webdriver.remote.webelement.WebElement (session=\"5e3a0f508c8ef9bd23bc34c75446cbfd\", element=\"a46b48e6-6f4f-4e3a-ab3b-5f9d04b1644d\")>\n",
      "<selenium.webdriver.remote.webelement.WebElement (session=\"5e3a0f508c8ef9bd23bc34c75446cbfd\", element=\"ed42253b-baa8-46a6-99bc-7994eae74ca6\")>\n",
      "<selenium.webdriver.remote.webelement.WebElement (session=\"5e3a0f508c8ef9bd23bc34c75446cbfd\", element=\"84b12f84-574f-4d64-aee1-d8c9910aeb1b\")>\n",
      "<selenium.webdriver.remote.webelement.WebElement (session=\"5e3a0f508c8ef9bd23bc34c75446cbfd\", element=\"6dd998bb-2ae1-42f2-9250-0c707bf17f9a\")>\n",
      "<selenium.webdriver.remote.webelement.WebElement (session=\"5e3a0f508c8ef9bd23bc34c75446cbfd\", element=\"e4a8cd24-fa4f-4a36-8c69-81c1c6da5b0b\")>\n",
      "<selenium.webdriver.remote.webelement.WebElement (session=\"5e3a0f508c8ef9bd23bc34c75446cbfd\", element=\"1866bc07-f80b-45c0-ada8-eab2a453a153\")>\n",
      "<selenium.webdriver.remote.webelement.WebElement (session=\"5e3a0f508c8ef9bd23bc34c75446cbfd\", element=\"f5090994-2077-4784-9924-1911c884ba97\")>\n",
      "<selenium.webdriver.remote.webelement.WebElement (session=\"5e3a0f508c8ef9bd23bc34c75446cbfd\", element=\"1bebe864-9f3a-4d95-b709-1537862fd538\")>\n",
      "<selenium.webdriver.remote.webelement.WebElement (session=\"5e3a0f508c8ef9bd23bc34c75446cbfd\", element=\"ce20d3f8-b5f5-463e-8bf1-4dca8d836335\")>\n",
      "<selenium.webdriver.remote.webelement.WebElement (session=\"5e3a0f508c8ef9bd23bc34c75446cbfd\", element=\"6526a611-a275-456e-b48b-92e604ea5b47\")>\n",
      "<selenium.webdriver.remote.webelement.WebElement (session=\"5e3a0f508c8ef9bd23bc34c75446cbfd\", element=\"d5b39515-5709-43d5-b16f-029774470ad6\")>\n",
      "<selenium.webdriver.remote.webelement.WebElement (session=\"5e3a0f508c8ef9bd23bc34c75446cbfd\", element=\"09295cf4-6c27-485b-95d8-9e8ecc30f33b\")>\n",
      "<selenium.webdriver.remote.webelement.WebElement (session=\"5e3a0f508c8ef9bd23bc34c75446cbfd\", element=\"d3f738dc-b3e0-4d89-9505-70b6d98fc93a\")>\n",
      "<selenium.webdriver.remote.webelement.WebElement (session=\"5e3a0f508c8ef9bd23bc34c75446cbfd\", element=\"f39bff64-7f36-42e7-8de1-5cc665bd6ecf\")>\n",
      "<selenium.webdriver.remote.webelement.WebElement (session=\"5e3a0f508c8ef9bd23bc34c75446cbfd\", element=\"8b84abf6-fd92-4eb3-9a3a-0425a20a6705\")>\n",
      "<selenium.webdriver.remote.webelement.WebElement (session=\"5e3a0f508c8ef9bd23bc34c75446cbfd\", element=\"ca0f5607-5efe-4dc8-a95c-9f6fe72c4119\")>\n",
      "<selenium.webdriver.remote.webelement.WebElement (session=\"5e3a0f508c8ef9bd23bc34c75446cbfd\", element=\"9edae0d5-de07-4d16-9f99-f00224d79c31\")>\n",
      "<selenium.webdriver.remote.webelement.WebElement (session=\"5e3a0f508c8ef9bd23bc34c75446cbfd\", element=\"7f9512ed-0abe-483f-a78f-34e873cfc5fd\")>\n",
      "<selenium.webdriver.remote.webelement.WebElement (session=\"5e3a0f508c8ef9bd23bc34c75446cbfd\", element=\"a46b48e6-6f4f-4e3a-ab3b-5f9d04b1644d\")>\n",
      "<selenium.webdriver.remote.webelement.WebElement (session=\"5e3a0f508c8ef9bd23bc34c75446cbfd\", element=\"ed42253b-baa8-46a6-99bc-7994eae74ca6\")>\n",
      "<selenium.webdriver.remote.webelement.WebElement (session=\"5e3a0f508c8ef9bd23bc34c75446cbfd\", element=\"84b12f84-574f-4d64-aee1-d8c9910aeb1b\")>\n",
      "<selenium.webdriver.remote.webelement.WebElement (session=\"5e3a0f508c8ef9bd23bc34c75446cbfd\", element=\"6dd998bb-2ae1-42f2-9250-0c707bf17f9a\")>\n",
      "<selenium.webdriver.remote.webelement.WebElement (session=\"5e3a0f508c8ef9bd23bc34c75446cbfd\", element=\"e4a8cd24-fa4f-4a36-8c69-81c1c6da5b0b\")>\n",
      "<selenium.webdriver.remote.webelement.WebElement (session=\"5e3a0f508c8ef9bd23bc34c75446cbfd\", element=\"1866bc07-f80b-45c0-ada8-eab2a453a153\")>\n",
      "<selenium.webdriver.remote.webelement.WebElement (session=\"5e3a0f508c8ef9bd23bc34c75446cbfd\", element=\"f5090994-2077-4784-9924-1911c884ba97\")>\n",
      "<selenium.webdriver.remote.webelement.WebElement (session=\"5e3a0f508c8ef9bd23bc34c75446cbfd\", element=\"1bebe864-9f3a-4d95-b709-1537862fd538\")>\n",
      "<selenium.webdriver.remote.webelement.WebElement (session=\"5e3a0f508c8ef9bd23bc34c75446cbfd\", element=\"ce20d3f8-b5f5-463e-8bf1-4dca8d836335\")>\n",
      "<selenium.webdriver.remote.webelement.WebElement (session=\"5e3a0f508c8ef9bd23bc34c75446cbfd\", element=\"6526a611-a275-456e-b48b-92e604ea5b47\")>\n",
      "<selenium.webdriver.remote.webelement.WebElement (session=\"5e3a0f508c8ef9bd23bc34c75446cbfd\", element=\"d5b39515-5709-43d5-b16f-029774470ad6\")>\n",
      "<selenium.webdriver.remote.webelement.WebElement (session=\"5e3a0f508c8ef9bd23bc34c75446cbfd\", element=\"09295cf4-6c27-485b-95d8-9e8ecc30f33b\")>\n",
      "<selenium.webdriver.remote.webelement.WebElement (session=\"5e3a0f508c8ef9bd23bc34c75446cbfd\", element=\"d3f738dc-b3e0-4d89-9505-70b6d98fc93a\")>\n",
      "<selenium.webdriver.remote.webelement.WebElement (session=\"5e3a0f508c8ef9bd23bc34c75446cbfd\", element=\"f39bff64-7f36-42e7-8de1-5cc665bd6ecf\")>\n",
      "<selenium.webdriver.remote.webelement.WebElement (session=\"5e3a0f508c8ef9bd23bc34c75446cbfd\", element=\"8b84abf6-fd92-4eb3-9a3a-0425a20a6705\")>\n",
      "<selenium.webdriver.remote.webelement.WebElement (session=\"5e3a0f508c8ef9bd23bc34c75446cbfd\", element=\"ca0f5607-5efe-4dc8-a95c-9f6fe72c4119\")>\n",
      "Max Homa ['4', '3', '4', '4', '5', '3', '3', '3', '4', '4', '3', '4', '4', '5', '3', '3', '3', '4']\n",
      "36\n",
      "<selenium.webdriver.remote.webelement.WebElement (session=\"5e3a0f508c8ef9bd23bc34c75446cbfd\", element=\"f994bce6-687e-4699-ac34-846c15ce40ec\")>\n",
      "<selenium.webdriver.remote.webelement.WebElement (session=\"5e3a0f508c8ef9bd23bc34c75446cbfd\", element=\"233391d2-4ba8-47f6-8739-1d54e8548c49\")>\n",
      "<selenium.webdriver.remote.webelement.WebElement (session=\"5e3a0f508c8ef9bd23bc34c75446cbfd\", element=\"613317de-4763-4153-ac10-37f198aa1836\")>\n",
      "<selenium.webdriver.remote.webelement.WebElement (session=\"5e3a0f508c8ef9bd23bc34c75446cbfd\", element=\"dfecae35-8518-4dc1-8660-8dae022938ce\")>\n",
      "<selenium.webdriver.remote.webelement.WebElement (session=\"5e3a0f508c8ef9bd23bc34c75446cbfd\", element=\"5a09f918-e5c8-47b4-a840-a2a463f5fa96\")>\n",
      "<selenium.webdriver.remote.webelement.WebElement (session=\"5e3a0f508c8ef9bd23bc34c75446cbfd\", element=\"5dac3300-147d-4980-b933-5224f8416062\")>\n",
      "<selenium.webdriver.remote.webelement.WebElement (session=\"5e3a0f508c8ef9bd23bc34c75446cbfd\", element=\"2339354f-8cc1-4764-a01c-4f625b4cae32\")>\n",
      "<selenium.webdriver.remote.webelement.WebElement (session=\"5e3a0f508c8ef9bd23bc34c75446cbfd\", element=\"d6dfc104-d13c-4197-a397-e462d38a94a6\")>\n",
      "<selenium.webdriver.remote.webelement.WebElement (session=\"5e3a0f508c8ef9bd23bc34c75446cbfd\", element=\"8b41f11a-1463-41ce-a57b-21dce68129bc\")>\n",
      "<selenium.webdriver.remote.webelement.WebElement (session=\"5e3a0f508c8ef9bd23bc34c75446cbfd\", element=\"d7667635-fcfa-4962-994f-96c82ed6fda3\")>\n",
      "<selenium.webdriver.remote.webelement.WebElement (session=\"5e3a0f508c8ef9bd23bc34c75446cbfd\", element=\"2a5201f9-45b1-41f0-9b60-70f151fc1cd7\")>\n",
      "<selenium.webdriver.remote.webelement.WebElement (session=\"5e3a0f508c8ef9bd23bc34c75446cbfd\", element=\"ed370c8c-0a26-42e5-add1-642a8d12c485\")>\n",
      "<selenium.webdriver.remote.webelement.WebElement (session=\"5e3a0f508c8ef9bd23bc34c75446cbfd\", element=\"84a1c290-3dd5-401c-9308-9bce5fdac7e2\")>\n",
      "<selenium.webdriver.remote.webelement.WebElement (session=\"5e3a0f508c8ef9bd23bc34c75446cbfd\", element=\"ba1d2eec-4905-4afb-ba52-3c0b7788bf49\")>\n",
      "<selenium.webdriver.remote.webelement.WebElement (session=\"5e3a0f508c8ef9bd23bc34c75446cbfd\", element=\"afe6acfd-0411-4ee3-8ee9-4e61035cf4cf\")>\n",
      "<selenium.webdriver.remote.webelement.WebElement (session=\"5e3a0f508c8ef9bd23bc34c75446cbfd\", element=\"0c477c00-7ad6-4b7a-9d4c-4ecc7b653dce\")>\n",
      "<selenium.webdriver.remote.webelement.WebElement (session=\"5e3a0f508c8ef9bd23bc34c75446cbfd\", element=\"21446954-3204-46e5-8732-5c70ced6356a\")>\n",
      "<selenium.webdriver.remote.webelement.WebElement (session=\"5e3a0f508c8ef9bd23bc34c75446cbfd\", element=\"52a5b85b-c6b5-4d35-8352-d87646b1e81a\")>\n",
      "<selenium.webdriver.remote.webelement.WebElement (session=\"5e3a0f508c8ef9bd23bc34c75446cbfd\", element=\"f994bce6-687e-4699-ac34-846c15ce40ec\")>\n",
      "<selenium.webdriver.remote.webelement.WebElement (session=\"5e3a0f508c8ef9bd23bc34c75446cbfd\", element=\"233391d2-4ba8-47f6-8739-1d54e8548c49\")>\n",
      "<selenium.webdriver.remote.webelement.WebElement (session=\"5e3a0f508c8ef9bd23bc34c75446cbfd\", element=\"613317de-4763-4153-ac10-37f198aa1836\")>\n",
      "<selenium.webdriver.remote.webelement.WebElement (session=\"5e3a0f508c8ef9bd23bc34c75446cbfd\", element=\"dfecae35-8518-4dc1-8660-8dae022938ce\")>\n",
      "<selenium.webdriver.remote.webelement.WebElement (session=\"5e3a0f508c8ef9bd23bc34c75446cbfd\", element=\"5a09f918-e5c8-47b4-a840-a2a463f5fa96\")>\n",
      "<selenium.webdriver.remote.webelement.WebElement (session=\"5e3a0f508c8ef9bd23bc34c75446cbfd\", element=\"5dac3300-147d-4980-b933-5224f8416062\")>\n",
      "<selenium.webdriver.remote.webelement.WebElement (session=\"5e3a0f508c8ef9bd23bc34c75446cbfd\", element=\"2339354f-8cc1-4764-a01c-4f625b4cae32\")>\n",
      "<selenium.webdriver.remote.webelement.WebElement (session=\"5e3a0f508c8ef9bd23bc34c75446cbfd\", element=\"d6dfc104-d13c-4197-a397-e462d38a94a6\")>\n",
      "<selenium.webdriver.remote.webelement.WebElement (session=\"5e3a0f508c8ef9bd23bc34c75446cbfd\", element=\"8b41f11a-1463-41ce-a57b-21dce68129bc\")>\n"
     ]
    },
    {
     "name": "stdout",
     "output_type": "stream",
     "text": [
      "<selenium.webdriver.remote.webelement.WebElement (session=\"5e3a0f508c8ef9bd23bc34c75446cbfd\", element=\"d7667635-fcfa-4962-994f-96c82ed6fda3\")>\n",
      "<selenium.webdriver.remote.webelement.WebElement (session=\"5e3a0f508c8ef9bd23bc34c75446cbfd\", element=\"2a5201f9-45b1-41f0-9b60-70f151fc1cd7\")>\n",
      "<selenium.webdriver.remote.webelement.WebElement (session=\"5e3a0f508c8ef9bd23bc34c75446cbfd\", element=\"ed370c8c-0a26-42e5-add1-642a8d12c485\")>\n",
      "<selenium.webdriver.remote.webelement.WebElement (session=\"5e3a0f508c8ef9bd23bc34c75446cbfd\", element=\"84a1c290-3dd5-401c-9308-9bce5fdac7e2\")>\n",
      "<selenium.webdriver.remote.webelement.WebElement (session=\"5e3a0f508c8ef9bd23bc34c75446cbfd\", element=\"ba1d2eec-4905-4afb-ba52-3c0b7788bf49\")>\n",
      "<selenium.webdriver.remote.webelement.WebElement (session=\"5e3a0f508c8ef9bd23bc34c75446cbfd\", element=\"afe6acfd-0411-4ee3-8ee9-4e61035cf4cf\")>\n",
      "<selenium.webdriver.remote.webelement.WebElement (session=\"5e3a0f508c8ef9bd23bc34c75446cbfd\", element=\"0c477c00-7ad6-4b7a-9d4c-4ecc7b653dce\")>\n",
      "<selenium.webdriver.remote.webelement.WebElement (session=\"5e3a0f508c8ef9bd23bc34c75446cbfd\", element=\"21446954-3204-46e5-8732-5c70ced6356a\")>\n",
      "<selenium.webdriver.remote.webelement.WebElement (session=\"5e3a0f508c8ef9bd23bc34c75446cbfd\", element=\"52a5b85b-c6b5-4d35-8352-d87646b1e81a\")>\n",
      "Maverick McNealy ['4', '3', '4', '4', '4', '4', '2', '4', '4', '4', '3', '4', '4', '4', '4', '2', '4', '4']\n",
      "36\n",
      "<selenium.webdriver.remote.webelement.WebElement (session=\"5e3a0f508c8ef9bd23bc34c75446cbfd\", element=\"b0e5efe5-adb9-4793-b821-080d5d6f50df\")>\n",
      "<selenium.webdriver.remote.webelement.WebElement (session=\"5e3a0f508c8ef9bd23bc34c75446cbfd\", element=\"c9659de0-8980-4d4f-82c4-5745dab949c0\")>\n",
      "<selenium.webdriver.remote.webelement.WebElement (session=\"5e3a0f508c8ef9bd23bc34c75446cbfd\", element=\"9e853c2b-a456-462e-8e76-9943bf31cf31\")>\n",
      "<selenium.webdriver.remote.webelement.WebElement (session=\"5e3a0f508c8ef9bd23bc34c75446cbfd\", element=\"57d7b492-5e61-4505-9411-93a875b013b8\")>\n",
      "<selenium.webdriver.remote.webelement.WebElement (session=\"5e3a0f508c8ef9bd23bc34c75446cbfd\", element=\"19b31b79-e6ec-4063-8476-a625292daa64\")>\n",
      "<selenium.webdriver.remote.webelement.WebElement (session=\"5e3a0f508c8ef9bd23bc34c75446cbfd\", element=\"16c19fab-60f5-4c9e-ab3f-771e62bf28d0\")>\n",
      "<selenium.webdriver.remote.webelement.WebElement (session=\"5e3a0f508c8ef9bd23bc34c75446cbfd\", element=\"b5de00ea-5fbb-46f7-ae4b-6cef7cf60d39\")>\n",
      "<selenium.webdriver.remote.webelement.WebElement (session=\"5e3a0f508c8ef9bd23bc34c75446cbfd\", element=\"b7ea8a5f-4af9-4735-b155-6ed5ea7a50fe\")>\n",
      "<selenium.webdriver.remote.webelement.WebElement (session=\"5e3a0f508c8ef9bd23bc34c75446cbfd\", element=\"b81ddcff-6f3f-428d-9181-f28c0a600ed2\")>\n",
      "<selenium.webdriver.remote.webelement.WebElement (session=\"5e3a0f508c8ef9bd23bc34c75446cbfd\", element=\"bd3f4b6c-b3b1-457f-bc2d-6f4ddc9f5c7e\")>\n",
      "<selenium.webdriver.remote.webelement.WebElement (session=\"5e3a0f508c8ef9bd23bc34c75446cbfd\", element=\"6fb7c738-beeb-4f63-a727-0b56b2f43bc7\")>\n",
      "<selenium.webdriver.remote.webelement.WebElement (session=\"5e3a0f508c8ef9bd23bc34c75446cbfd\", element=\"64a7a06e-f1ba-4f19-a42d-5daa3d85253f\")>\n",
      "<selenium.webdriver.remote.webelement.WebElement (session=\"5e3a0f508c8ef9bd23bc34c75446cbfd\", element=\"71d7cb3c-20c0-43b9-a255-71f44107b280\")>\n",
      "<selenium.webdriver.remote.webelement.WebElement (session=\"5e3a0f508c8ef9bd23bc34c75446cbfd\", element=\"c1820905-d35d-4bb6-8425-181ce6581ed2\")>\n",
      "<selenium.webdriver.remote.webelement.WebElement (session=\"5e3a0f508c8ef9bd23bc34c75446cbfd\", element=\"1058ff50-f703-4a19-8179-d706e3ad2ded\")>\n",
      "<selenium.webdriver.remote.webelement.WebElement (session=\"5e3a0f508c8ef9bd23bc34c75446cbfd\", element=\"664ff7e2-4805-40ba-b7d3-5e9000d8bf89\")>\n",
      "<selenium.webdriver.remote.webelement.WebElement (session=\"5e3a0f508c8ef9bd23bc34c75446cbfd\", element=\"7a788fff-88cc-4e85-afb3-7a1a61e1d392\")>\n",
      "<selenium.webdriver.remote.webelement.WebElement (session=\"5e3a0f508c8ef9bd23bc34c75446cbfd\", element=\"107cddaf-12c1-4263-a19b-e7ad50ee12ce\")>\n",
      "<selenium.webdriver.remote.webelement.WebElement (session=\"5e3a0f508c8ef9bd23bc34c75446cbfd\", element=\"b0e5efe5-adb9-4793-b821-080d5d6f50df\")>\n",
      "<selenium.webdriver.remote.webelement.WebElement (session=\"5e3a0f508c8ef9bd23bc34c75446cbfd\", element=\"c9659de0-8980-4d4f-82c4-5745dab949c0\")>\n",
      "<selenium.webdriver.remote.webelement.WebElement (session=\"5e3a0f508c8ef9bd23bc34c75446cbfd\", element=\"9e853c2b-a456-462e-8e76-9943bf31cf31\")>\n",
      "<selenium.webdriver.remote.webelement.WebElement (session=\"5e3a0f508c8ef9bd23bc34c75446cbfd\", element=\"57d7b492-5e61-4505-9411-93a875b013b8\")>\n",
      "<selenium.webdriver.remote.webelement.WebElement (session=\"5e3a0f508c8ef9bd23bc34c75446cbfd\", element=\"19b31b79-e6ec-4063-8476-a625292daa64\")>\n",
      "<selenium.webdriver.remote.webelement.WebElement (session=\"5e3a0f508c8ef9bd23bc34c75446cbfd\", element=\"16c19fab-60f5-4c9e-ab3f-771e62bf28d0\")>\n",
      "<selenium.webdriver.remote.webelement.WebElement (session=\"5e3a0f508c8ef9bd23bc34c75446cbfd\", element=\"b5de00ea-5fbb-46f7-ae4b-6cef7cf60d39\")>\n",
      "<selenium.webdriver.remote.webelement.WebElement (session=\"5e3a0f508c8ef9bd23bc34c75446cbfd\", element=\"b7ea8a5f-4af9-4735-b155-6ed5ea7a50fe\")>\n",
      "<selenium.webdriver.remote.webelement.WebElement (session=\"5e3a0f508c8ef9bd23bc34c75446cbfd\", element=\"b81ddcff-6f3f-428d-9181-f28c0a600ed2\")>\n",
      "<selenium.webdriver.remote.webelement.WebElement (session=\"5e3a0f508c8ef9bd23bc34c75446cbfd\", element=\"bd3f4b6c-b3b1-457f-bc2d-6f4ddc9f5c7e\")>\n",
      "<selenium.webdriver.remote.webelement.WebElement (session=\"5e3a0f508c8ef9bd23bc34c75446cbfd\", element=\"6fb7c738-beeb-4f63-a727-0b56b2f43bc7\")>\n",
      "<selenium.webdriver.remote.webelement.WebElement (session=\"5e3a0f508c8ef9bd23bc34c75446cbfd\", element=\"64a7a06e-f1ba-4f19-a42d-5daa3d85253f\")>\n",
      "<selenium.webdriver.remote.webelement.WebElement (session=\"5e3a0f508c8ef9bd23bc34c75446cbfd\", element=\"71d7cb3c-20c0-43b9-a255-71f44107b280\")>\n",
      "<selenium.webdriver.remote.webelement.WebElement (session=\"5e3a0f508c8ef9bd23bc34c75446cbfd\", element=\"c1820905-d35d-4bb6-8425-181ce6581ed2\")>\n",
      "<selenium.webdriver.remote.webelement.WebElement (session=\"5e3a0f508c8ef9bd23bc34c75446cbfd\", element=\"1058ff50-f703-4a19-8179-d706e3ad2ded\")>\n",
      "<selenium.webdriver.remote.webelement.WebElement (session=\"5e3a0f508c8ef9bd23bc34c75446cbfd\", element=\"664ff7e2-4805-40ba-b7d3-5e9000d8bf89\")>\n",
      "<selenium.webdriver.remote.webelement.WebElement (session=\"5e3a0f508c8ef9bd23bc34c75446cbfd\", element=\"7a788fff-88cc-4e85-afb3-7a1a61e1d392\")>\n",
      "<selenium.webdriver.remote.webelement.WebElement (session=\"5e3a0f508c8ef9bd23bc34c75446cbfd\", element=\"107cddaf-12c1-4263-a19b-e7ad50ee12ce\")>\n",
      "Mito Pereira ['3', '3', '4', '4', '5', '4', '3', '4', '5', '3', '3', '4', '4', '5', '4', '3', '4', '5']\n"
     ]
    },
    {
     "ename": "KeyboardInterrupt",
     "evalue": "",
     "output_type": "error",
     "traceback": [
      "\u001b[1;31m---------------------------------------------------------------------------\u001b[0m",
      "\u001b[1;31mKeyboardInterrupt\u001b[0m                         Traceback (most recent call last)",
      "Input \u001b[1;32mIn [39]\u001b[0m, in \u001b[0;36m<cell line: 12>\u001b[1;34m()\u001b[0m\n\u001b[0;32m     15\u001b[0m player_ele\u001b[38;5;241m.\u001b[39mclick()\n\u001b[0;32m     16\u001b[0m score_elems, scores \u001b[38;5;241m=\u001b[39m [], []\n\u001b[1;32m---> 17\u001b[0m score_elems\u001b[38;5;241m.\u001b[39mextend(\u001b[43mWebDriverWait\u001b[49m\u001b[43m(\u001b[49m\u001b[43mdriver\u001b[49m\u001b[43m,\u001b[49m\u001b[43m \u001b[49m\u001b[38;5;241;43m20\u001b[39;49m\u001b[43m)\u001b[49m\u001b[38;5;241;43m.\u001b[39;49m\u001b[43muntil\u001b[49m\u001b[43m(\u001b[49m\u001b[43mEC\u001b[49m\u001b[38;5;241;43m.\u001b[39;49m\u001b[43mpresence_of_all_elements_located\u001b[49m\u001b[43m(\u001b[49m\u001b[43m(\u001b[49m\u001b[43mBy\u001b[49m\u001b[38;5;241;43m.\u001b[39;49m\u001b[43mCLASS_NAME\u001b[49m\u001b[43m,\u001b[49m\u001b[43m \u001b[49m\u001b[38;5;124;43m'\u001b[39;49m\u001b[38;5;124;43mscore-wrapper\u001b[39;49m\u001b[38;5;124;43m'\u001b[39;49m\u001b[43m)\u001b[49m\u001b[43m)\u001b[49m\u001b[43m)\u001b[49m)\n\u001b[0;32m     18\u001b[0m icon_backward \u001b[38;5;241m=\u001b[39m WebDriverWait(driver, \u001b[38;5;241m20\u001b[39m)\u001b[38;5;241m.\u001b[39muntil(EC\u001b[38;5;241m.\u001b[39mpresence_of_element_located((By\u001b[38;5;241m.\u001b[39mCLASS_NAME, \u001b[38;5;124m'\u001b[39m\u001b[38;5;124micon-backward\u001b[39m\u001b[38;5;124m'\u001b[39m)))\n\u001b[0;32m     19\u001b[0m icon_backward\u001b[38;5;241m.\u001b[39mclick()\n",
      "File \u001b[1;32m~\\anaconda3\\lib\\site-packages\\selenium\\webdriver\\support\\wait.py:84\u001b[0m, in \u001b[0;36mWebDriverWait.until\u001b[1;34m(self, method, message)\u001b[0m\n\u001b[0;32m     82\u001b[0m     screen \u001b[38;5;241m=\u001b[39m \u001b[38;5;28mgetattr\u001b[39m(exc, \u001b[38;5;124m'\u001b[39m\u001b[38;5;124mscreen\u001b[39m\u001b[38;5;124m'\u001b[39m, \u001b[38;5;28;01mNone\u001b[39;00m)\n\u001b[0;32m     83\u001b[0m     stacktrace \u001b[38;5;241m=\u001b[39m \u001b[38;5;28mgetattr\u001b[39m(exc, \u001b[38;5;124m'\u001b[39m\u001b[38;5;124mstacktrace\u001b[39m\u001b[38;5;124m'\u001b[39m, \u001b[38;5;28;01mNone\u001b[39;00m)\n\u001b[1;32m---> 84\u001b[0m \u001b[43mtime\u001b[49m\u001b[38;5;241;43m.\u001b[39;49m\u001b[43msleep\u001b[49m\u001b[43m(\u001b[49m\u001b[38;5;28;43mself\u001b[39;49m\u001b[38;5;241;43m.\u001b[39;49m\u001b[43m_poll\u001b[49m\u001b[43m)\u001b[49m\n\u001b[0;32m     85\u001b[0m \u001b[38;5;28;01mif\u001b[39;00m time\u001b[38;5;241m.\u001b[39mmonotonic() \u001b[38;5;241m>\u001b[39m end_time:\n\u001b[0;32m     86\u001b[0m     \u001b[38;5;28;01mbreak\u001b[39;00m\n",
      "\u001b[1;31mKeyboardInterrupt\u001b[0m: "
     ]
    }
   ],
   "source": [
    "driver.get(\"https://www.pgatour.com/competition/2022/fortinet-championship/leaderboard.html\")\n",
    "driver.maximize_window()\n",
    "\n",
    "#These are div elements which when you \"click\" on them, they expand to show a player's full hole-by-hole scoring, which is what we are after\n",
    "#The hole by hole HTML seems to not be present in the DOM until you click on the name and expand the data (I think)\n",
    "\n",
    "name_elements = WebDriverWait(driver, 20).until(EC.presence_of_all_elements_located((By.CLASS_NAME, \"player-name-col\")))\n",
    "# name_elements = driver.find_elements_by_class_name('player-name-col')\n",
    "\n",
    "num_players = len(name_elements)\n",
    "\n",
    "for i in range(num_players):\n",
    "    player_ele = name_elements[i]\n",
    "    player_name = player_ele.text\n",
    "    player_ele.click()\n",
    "    score_elems, scores = [], []\n",
    "    score_elems.extend(WebDriverWait(driver, 20).until(EC.presence_of_all_elements_located((By.CLASS_NAME, 'score-wrapper'))))\n",
    "    icon_backward = WebDriverWait(driver, 20).until(EC.presence_of_element_located((By.CLASS_NAME, 'icon-backward')))\n",
    "    icon_backward.click()\n",
    "    score_elems.extend(WebDriverWait(driver, 20).until(EC.presence_of_all_elements_located((By.CLASS_NAME, 'score-wrapper'))))\n",
    "    print(len(score_elems))\n",
    "    for score_elem in score_elems:\n",
    "        print(score_elem)\n",
    "        if score_elem.text != '':\n",
    "            scores.append(score_elem.text)\n",
    "    print(player_name, scores)\n",
    "    player_ele.click()\n"
   ]
  },
  {
   "cell_type": "code",
   "execution_count": 16,
   "id": "48f5d805",
   "metadata": {},
   "outputs": [
    {
     "name": "stdout",
     "output_type": "stream",
     "text": [
      "<class 'selenium.webdriver.remote.webelement.WebElement'>\n"
     ]
    }
   ],
   "source": [
    "print(type(scores[0]))"
   ]
  },
  {
   "cell_type": "code",
   "execution_count": null,
   "id": "5e5b09c9",
   "metadata": {},
   "outputs": [],
   "source": []
  }
 ],
 "metadata": {
  "kernelspec": {
   "display_name": "Python 3 (ipykernel)",
   "language": "python",
   "name": "python3"
  },
  "language_info": {
   "codemirror_mode": {
    "name": "ipython",
    "version": 3
   },
   "file_extension": ".py",
   "mimetype": "text/x-python",
   "name": "python",
   "nbconvert_exporter": "python",
   "pygments_lexer": "ipython3",
   "version": "3.9.12"
  }
 },
 "nbformat": 4,
 "nbformat_minor": 5
}
